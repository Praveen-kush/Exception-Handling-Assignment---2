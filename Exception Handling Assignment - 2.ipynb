{
 "cells": [
  {
   "cell_type": "markdown",
   "id": "db2114f4",
   "metadata": {},
   "source": [
    "# Assignment 2"
   ]
  },
  {
   "cell_type": "markdown",
   "id": "8ca76358",
   "metadata": {},
   "source": [
    "# Q1. Explain why we have to use the Exception class while creating a Custom Exception."
   ]
  },
  {
   "cell_type": "markdown",
   "id": "762030d0",
   "metadata": {},
   "source": [
    "# Ans:"
   ]
  },
  {
   "cell_type": "code",
   "execution_count": 1,
   "id": "f4a96e38",
   "metadata": {},
   "outputs": [
    {
     "name": "stdout",
     "output_type": "stream",
     "text": [
      "Custom Error: This is a custom exception.\n"
     ]
    }
   ],
   "source": [
    "class CustomError(Exception):\n",
    "    def __init__(self, message):\n",
    "        super().__init__(message)\n",
    "\n",
    "try:\n",
    "    raise CustomError(\"This is a custom exception.\")\n",
    "except CustomError as ce:\n",
    "    print(f\"Custom Error: {ce}\")\n",
    "except Exception as e:\n",
    "    print(f\"Generic Exception: {e}\")\n"
   ]
  },
  {
   "cell_type": "markdown",
   "id": "455f782e",
   "metadata": {},
   "source": [
    " the CustomError class is defined by inheriting from the base Exception class. When the custom exception is raised and caught, it can be handled just like any other exception, allowing you to provide specific error messages and context for your application's exceptional cases."
   ]
  },
  {
   "cell_type": "markdown",
   "id": "4108cb56",
   "metadata": {},
   "source": [
    "# Q2. Write a python program to print Python Exception Hierarchy."
   ]
  },
  {
   "cell_type": "markdown",
   "id": "e622e82b",
   "metadata": {},
   "source": [
    "# Ans:"
   ]
  },
  {
   "cell_type": "code",
   "execution_count": 4,
   "id": "78cc9209",
   "metadata": {},
   "outputs": [
    {
     "name": "stdout",
     "output_type": "stream",
     "text": [
      "Exception Hierarchy for Exception:\n",
      "  Exception\n",
      "  BaseException\n",
      "  object\n",
      "\n",
      "Exception Hierarchy for MyCustomException:\n",
      "  MyCustomException\n",
      "  Exception\n",
      "  BaseException\n",
      "  object\n",
      "\n"
     ]
    }
   ],
   "source": [
    "def print_exception_hierarchy(exception_class):\n",
    "    print(f\"Exception Hierarchy for {exception_class.__name__}:\")\n",
    "    for cls in exception_class.__mro__:\n",
    "        print(f\"  {cls.__name__}\")\n",
    "    print()\n",
    "\n",
    "\n",
    "print_exception_hierarchy(Exception)\n",
    "\n",
    "\n",
    "class MyCustomException(Exception):\n",
    "    pass\n",
    "print_exception_hierarchy(MyCustomException)\n"
   ]
  },
  {
   "cell_type": "markdown",
   "id": "df876470",
   "metadata": {},
   "source": [
    "# Q3. What errors are defined in the ArithmeticError class? Explain any two with an example."
   ]
  },
  {
   "cell_type": "markdown",
   "id": "a6b5db16",
   "metadata": {},
   "source": [
    "# Ans:"
   ]
  },
  {
   "cell_type": "markdown",
   "id": "de43bbb4",
   "metadata": {},
   "source": [
    "The ArithmeticError class is a base class for exceptions related to arithmetic operations in Python. Two common errors defined within the ArithmeticError class are:\n",
    "\n",
    "ZeroDivisionError: This error occurs when you attempt to divide a number by zero.\n",
    "\n",
    "OverflowError: This error occurs when a mathematical operation results in a value that is too large to be represented."
   ]
  },
  {
   "cell_type": "code",
   "execution_count": 6,
   "id": "fe39745b",
   "metadata": {},
   "outputs": [
    {
     "name": "stdout",
     "output_type": "stream",
     "text": [
      "ZeroDivisionError: division by zero\n"
     ]
    }
   ],
   "source": [
    "def divide_numbers(a, b):\n",
    "    try:\n",
    "        result = a / b\n",
    "        return result\n",
    "    except ZeroDivisionError as zd_error:\n",
    "        print(f\"ZeroDivisionError: {zd_error}\")\n",
    "    except OverflowError as of_error:\n",
    "        print(f\"OverflowError: {of_error}\")\n",
    "    except ArithmeticError as ae_error:\n",
    "        print(f\"ArithmeticError: {ae_error}\")\n",
    "\n",
    "\n",
    "try:\n",
    "    result = divide_numbers(5, 0)\n",
    "except ZeroDivisionError as zd_error:\n",
    "    print(f\"Caught ZeroDivisionError: {zd_error}\")\n",
    "\n",
    "\n",
    "try:\n",
    "    x = 2 ** 1000  \n",
    "except OverflowError as of_error:\n",
    "    print(f\"Caught OverflowError: {of_error}\")\n"
   ]
  },
  {
   "cell_type": "markdown",
   "id": "c9310dfc",
   "metadata": {},
   "source": [
    "The divide_numbers function attempts to perform division. If a division by zero occurs, it raises a ZeroDivisionError. If an overflow error occurs, it raises an OverflowError. If any other arithmetic error occurs, it raises an ArithmeticError.\n",
    "\n",
    "In the first example, we call divide_numbers(5, 0), which will raise a ZeroDivisionError because we are trying to divide by zero. The program catches this exception and prints an error message.\n",
    "\n",
    "In the second example, we calculate 2 ** 1000, which will result in an OverflowError because the result is too large to be represented in Python's standard numeric types. The program catches this exception and prints an error message."
   ]
  },
  {
   "cell_type": "markdown",
   "id": "73b2e3ad",
   "metadata": {},
   "source": [
    "# Q4. Why LookupError class is used? Explain with an example KeyError and IndexError."
   ]
  },
  {
   "cell_type": "markdown",
   "id": "d0cd26d0",
   "metadata": {},
   "source": [
    "# Ans:"
   ]
  },
  {
   "cell_type": "markdown",
   "id": "d78c4fb5",
   "metadata": {},
   "source": [
    "The LookupError class in Python is a base class for exceptions related to looking up values or items in sequences or mappings. It is a parent class for a range of exceptions, and it provides a convenient way to catch exceptions related to lookup operations. Two common exceptions derived from LookupError are KeyError and IndexError."
   ]
  },
  {
   "cell_type": "markdown",
   "id": "7faf3ed8",
   "metadata": {},
   "source": [
    "KeyError: This exception is raised when you try to access a dictionary (or a similar mapping) with a key that doesn't exist in the dictionary."
   ]
  },
  {
   "cell_type": "code",
   "execution_count": 7,
   "id": "90bfe63e",
   "metadata": {},
   "outputs": [
    {
     "name": "stdout",
     "output_type": "stream",
     "text": [
      "Caught KeyError: 'orange'\n"
     ]
    }
   ],
   "source": [
    "my_dict = {\"apple\": 3, \"banana\": 2, \"cherry\": 1}\n",
    "\n",
    "try:\n",
    "    value = my_dict[\"orange\"] \n",
    "except KeyError as ke:\n",
    "    print(f\"Caught KeyError: {ke}\")\n"
   ]
  },
  {
   "cell_type": "markdown",
   "id": "fd6ac237",
   "metadata": {},
   "source": [
    "we attempt to access the key \"orange\" in the my_dict dictionary, which doesn't exist. This raises a KeyError, and we catch it to handle the situation gracefully."
   ]
  },
  {
   "cell_type": "markdown",
   "id": "fc73fe99",
   "metadata": {},
   "source": [
    "IndexError: This exception is raised when you try to access a sequence (e.g., a list or tuple) with an index that is out of bounds or doesn't exist."
   ]
  },
  {
   "cell_type": "code",
   "execution_count": 8,
   "id": "14221fcf",
   "metadata": {},
   "outputs": [
    {
     "name": "stdout",
     "output_type": "stream",
     "text": [
      "Caught IndexError: list index out of range\n"
     ]
    }
   ],
   "source": [
    "my_list = [10, 20, 30]\n",
    "\n",
    "try:\n",
    "    value = my_list[3]  \n",
    "except IndexError as ie:\n",
    "    print(f\"Caught IndexError: {ie}\")\n"
   ]
  },
  {
   "cell_type": "markdown",
   "id": "f3251204",
   "metadata": {},
   "source": [
    " we attempt to access the element at index 3 in the my_list, which is out of bounds because the list only has elements at indices 0, 1, and 2. This raises an IndexError, and we catch it to handle the situation gracefully."
   ]
  },
  {
   "cell_type": "markdown",
   "id": "2c942375",
   "metadata": {},
   "source": [
    "Using LookupError or its derived exceptions, such as KeyError and IndexError, allows you to provide specific error-handling for cases where lookup operations go wrong. This can help prevent your program from crashing due to unexpected or invalid data access.\n",
    "\n",
    "\n",
    "\n",
    "\n",
    "\n"
   ]
  },
  {
   "cell_type": "markdown",
   "id": "9da365f5",
   "metadata": {},
   "source": [
    "# Q5. Explain ImportError. What is ModuleNotFoundError?"
   ]
  },
  {
   "cell_type": "markdown",
   "id": "33231533",
   "metadata": {},
   "source": [
    "# Ans:"
   ]
  },
  {
   "cell_type": "markdown",
   "id": "64391740",
   "metadata": {},
   "source": [
    "ImportError: This is a general exception that is raised when there is an issue with importing a module or package that is not covered by a more specific exception. It serves as a catch-all for various import-related problems. Some common reasons for an ImportError include:\n",
    "\n",
    "The module or package you are trying to import doesn't exist.\n",
    "There is a syntax error in the module being imported.\n",
    "Circular imports (two or more modules importing each other).\n",
    "Problems with the module's code, such as a runtime error during initialization.\n",
    "Issues with the module's dependencies or required libraries.\n"
   ]
  },
  {
   "cell_type": "code",
   "execution_count": 9,
   "id": "ab3e9a84",
   "metadata": {},
   "outputs": [
    {
     "name": "stdout",
     "output_type": "stream",
     "text": [
      "Caught ImportError: No module named 'non_existent_module'\n"
     ]
    }
   ],
   "source": [
    "try:\n",
    "    import non_existent_module\n",
    "except ImportError as ie:\n",
    "    print(f\"Caught ImportError: {ie}\")\n"
   ]
  },
  {
   "cell_type": "markdown",
   "id": "865f981f",
   "metadata": {},
   "source": [
    "an attempt to import a non-existent module (non_existent_module) raises an ImportError."
   ]
  },
  {
   "cell_type": "markdown",
   "id": "620e83a7",
   "metadata": {},
   "source": [
    "ModuleNotFoundError: This is a more specific exception introduced in Python 3.6. It is raised when the Python interpreter cannot find the module or package specified in the import statement. ModuleNotFoundError is raised specifically for the case when the requested module is not found."
   ]
  },
  {
   "cell_type": "code",
   "execution_count": 10,
   "id": "8347845b",
   "metadata": {},
   "outputs": [
    {
     "name": "stdout",
     "output_type": "stream",
     "text": [
      "Caught ModuleNotFoundError: No module named 'non_existent_module'\n"
     ]
    }
   ],
   "source": [
    "try:\n",
    "    import non_existent_module\n",
    "except ModuleNotFoundError as mfe:\n",
    "    print(f\"Caught ModuleNotFoundError: {mfe}\")\n"
   ]
  },
  {
   "cell_type": "markdown",
   "id": "cefdbc0e",
   "metadata": {},
   "source": [
    " the attempt to import a non-existent module (non_existent_module) raises a ModuleNotFoundError."
   ]
  },
  {
   "cell_type": "markdown",
   "id": "b900e7db",
   "metadata": {},
   "source": [
    "Python introduced ModuleNotFoundError to make it clearer and more explicit when a module cannot be found, making it easier to diagnose and address import-related issues. Prior to Python 3.6, such errors were often raised as ImportError without specific information about the nature of the problem, which could be less informative for debugging."
   ]
  },
  {
   "cell_type": "markdown",
   "id": "f51e838e",
   "metadata": {},
   "source": [
    "# Q6. List down some best practices for exception handling in python."
   ]
  },
  {
   "cell_type": "markdown",
   "id": "6f78d280",
   "metadata": {},
   "source": [
    "# Ans:"
   ]
  },
  {
   "cell_type": "markdown",
   "id": "8d8f61be",
   "metadata": {},
   "source": [
    "Exception handling is an essential part of writing robust and maintainable Python code. "
   ]
  },
  {
   "cell_type": "markdown",
   "id": "85fbb172",
   "metadata": {},
   "source": [
    "Use Specific Exception Types: Catch and handle specific exceptions rather than using generic catch-all exceptions like Exception or BaseException. This helps you differentiate between different error scenarios and handle them appropriately.\n",
    "\n",
    "Keep Exception Blocks Short: The code within an exception block should be minimal and focused on handling the error. Avoid including long sequences of code within a single try block.\n",
    "\n",
    "Use Multiple except Blocks: If you need to handle different types of exceptions differently, use separate except blocks for each. This enhances code readability and allows you to provide specific error-handling logic for each exception type.\n",
    "\n",
    "Avoid Suppressing Exceptions: Don't use empty except blocks or catch exceptions and do nothing with them. It can make debugging and diagnosing issues challenging. At the very least, log or report the exception for debugging purposes.\n",
    "\n",
    "Rethrow Exceptions Judiciously: In some cases, it's appropriate to catch an exception, perform some actions, and then re-raise the exception using raise. This can be useful for logging or adding context to an exception before propagating it further.\n",
    "\n",
    "Use finally Blocks for Cleanup: When you need to ensure that certain actions are taken regardless of whether an exception is raised or not, use finally blocks. Common use cases include closing files, releasing resources, or cleaning up temporary data.\n",
    "\n",
    "Handle Exceptions Close to the Source: Handle exceptions as close to the source of the error as possible. Don't catch an exception at a high level if you can handle it at a lower level where the issue occurred. This makes it easier to pinpoint and fix issues.\n",
    "\n",
    "Log Exceptions: Use logging libraries (e.g., logging module) to log exceptions and their context. This provides valuable information for debugging and monitoring.\n",
    "\n",
    "Avoid Silent Failures: Don't let exceptions silently fail. When an error occurs, make sure it's reported, and the program exits gracefully or continues in a known state.\n",
    "\n",
    "Use Custom Exceptions: For specific error scenarios in your application, create custom exception classes that provide meaningful information and context. This helps improve code readability and maintainability.\n",
    "\n",
    "Follow the EAFP Principle: EAFP stands for \"Easier to Ask for Forgiveness than Permission.\" This Pythonic approach suggests trying an operation and handling any exceptions that may occur rather than checking beforehand if the operation is possible. This can lead to cleaner and more readable code.\n",
    "\n",
    "Document Exception Handling: Include comments or docstrings to document how and why specific exceptions are being handled in your code. This helps other developers understand your intent and design.\n",
    "\n",
    "Test Exception Handling: Write unit tests that cover different exception scenarios to ensure your error-handling code behaves as expected. This is especially important for critical and complex parts of your code.\n",
    "\n"
   ]
  },
  {
   "cell_type": "code",
   "execution_count": null,
   "id": "db0d86e1",
   "metadata": {},
   "outputs": [],
   "source": []
  }
 ],
 "metadata": {
  "kernelspec": {
   "display_name": "Python 3 (ipykernel)",
   "language": "python",
   "name": "python3"
  },
  "language_info": {
   "codemirror_mode": {
    "name": "ipython",
    "version": 3
   },
   "file_extension": ".py",
   "mimetype": "text/x-python",
   "name": "python",
   "nbconvert_exporter": "python",
   "pygments_lexer": "ipython3",
   "version": "3.9.13"
  }
 },
 "nbformat": 4,
 "nbformat_minor": 5
}
